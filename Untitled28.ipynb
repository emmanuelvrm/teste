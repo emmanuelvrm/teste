{
  "nbformat": 4,
  "nbformat_minor": 0,
  "metadata": {
    "colab": {
      "provenance": [],
      "authorship_tag": "ABX9TyNlQy3D5SZJwx2cIF40vRWi",
      "include_colab_link": true
    },
    "kernelspec": {
      "name": "python3",
      "display_name": "Python 3"
    },
    "language_info": {
      "name": "python"
    }
  },
  "cells": [
    {
      "cell_type": "markdown",
      "metadata": {
        "id": "view-in-github",
        "colab_type": "text"
      },
      "source": [
        "<a href=\"https://colab.research.google.com/github/emmanuelvrm/teste/blob/main/Untitled28.ipynb\" target=\"_parent\"><img src=\"https://colab.research.google.com/assets/colab-badge.svg\" alt=\"Open In Colab\"/></a>"
      ]
    },
    {
      "cell_type": "code",
      "execution_count": null,
      "metadata": {
        "id": "eQ5FBT5YuYQN"
      },
      "outputs": [],
      "source": []
    },
    {
      "cell_type": "markdown",
      "source": [
        "dfdfdfdfdfdf"
      ],
      "metadata": {
        "id": "cb5C0Z4zusLG"
      }
    },
    {
      "cell_type": "code",
      "source": [
        "print(\"Teste\")"
      ],
      "metadata": {
        "colab": {
          "base_uri": "https://localhost:8080/"
        },
        "id": "CHgMRIDNuuUU",
        "outputId": "d31bdf96-b3ca-4a72-e6df-7330adb3de54"
      },
      "execution_count": null,
      "outputs": [
        {
          "output_type": "stream",
          "name": "stdout",
          "text": [
            "Teste\n"
          ]
        }
      ]
    },
    {
      "cell_type": "code",
      "source": [
        "print(f\"teste {variavel}\")"
      ],
      "metadata": {
        "id": "6YkYvyQN4IS3"
      },
      "execution_count": null,
      "outputs": []
    },
    {
      "cell_type": "code",
      "source": [
        "'''\n",
        "\n",
        "fdfdfd\n",
        "sasasa\n",
        "\n",
        "'''\n",
        "# Comentario\n",
        "\n",
        "print(\"Teste\")"
      ],
      "metadata": {
        "colab": {
          "base_uri": "https://localhost:8080/"
        },
        "id": "cemtjDsXvESl",
        "outputId": "26c1822b-726a-4dc6-a2c1-711eb7c17774"
      },
      "execution_count": null,
      "outputs": [
        {
          "output_type": "stream",
          "name": "stdout",
          "text": [
            "Teste\n"
          ]
        }
      ]
    },
    {
      "cell_type": "code",
      "source": [
        "numero = 787878\n",
        "nome = \"Emmanuel \"\n",
        "\n",
        "print(numero + numero)"
      ],
      "metadata": {
        "colab": {
          "base_uri": "https://localhost:8080/"
        },
        "id": "qIabroygvEVu",
        "outputId": "d143c4e4-1e9c-4e32-cecf-59cb0fa69c59"
      },
      "execution_count": null,
      "outputs": [
        {
          "output_type": "stream",
          "name": "stdout",
          "text": [
            "1575756\n"
          ]
        }
      ]
    },
    {
      "cell_type": "markdown",
      "source": [
        "\n",
        "\n",
        "```\n",
        "+ - Soma\n",
        "- - Subtração\n",
        "/ - Divisão\n",
        "* - Multiplicação\n",
        "% - Resto da divisão\n",
        "** - Potência\n",
        "```\n",
        "\n"
      ],
      "metadata": {
        "id": "38SgayTUygvM"
      }
    },
    {
      "cell_type": "markdown",
      "source": [
        "-Crie 3 variáveis numericas\n",
        "\n",
        "-Faça um calculo com elas\n",
        "\n",
        "-Crie 2 variável do tipo string seu nome e sobrenome e concatene\n",
        "\n",
        "-Exiba os resultados com o print\n",
        "\n"
      ],
      "metadata": {
        "id": "P2bkt83Ry4pL"
      }
    },
    {
      "cell_type": "code",
      "source": [
        "str(numero) + nome"
      ],
      "metadata": {
        "colab": {
          "base_uri": "https://localhost:8080/",
          "height": 35
        },
        "id": "nHdbgk4ovEYs",
        "outputId": "e7f3e69f-1252-4732-917e-9d363f6978bf"
      },
      "execution_count": null,
      "outputs": [
        {
          "output_type": "execute_result",
          "data": {
            "text/plain": [
              "'787878Emmanuel '"
            ],
            "application/vnd.google.colaboratory.intrinsic+json": {
              "type": "string"
            }
          },
          "metadata": {},
          "execution_count": 11
        }
      ]
    },
    {
      "cell_type": "code",
      "source": [
        "seu_nome = input(\"Digite seu nome:\")\n",
        "print(\"Bem vindo \" + seu_nome)"
      ],
      "metadata": {
        "colab": {
          "base_uri": "https://localhost:8080/"
        },
        "id": "6V0j2TsTvEbO",
        "outputId": "efac8021-70b4-46e5-cd26-6d2639f3214b"
      },
      "execution_count": null,
      "outputs": [
        {
          "output_type": "stream",
          "name": "stdout",
          "text": [
            "Digite seu nome:Emmanuel\n",
            "Bem vindo Emmanuel\n"
          ]
        }
      ]
    },
    {
      "cell_type": "code",
      "source": [
        "print(f\"Bem vindo {seu_nome}\")"
      ],
      "metadata": {
        "colab": {
          "base_uri": "https://localhost:8080/"
        },
        "id": "Um_LQ3oYvEeM",
        "outputId": "4c3542bc-8b84-4e00-8033-53c1b3bc5043"
      },
      "execution_count": null,
      "outputs": [
        {
          "output_type": "stream",
          "name": "stdout",
          "text": [
            "Bem vindo Emmanuel\n"
          ]
        }
      ]
    },
    {
      "cell_type": "code",
      "source": [
        "numero = \"7\"\n",
        "print(type(numero))"
      ],
      "metadata": {
        "colab": {
          "base_uri": "https://localhost:8080/"
        },
        "id": "qhugSadO4dC7",
        "outputId": "bbb8a82d-a1f8-4487-bcd5-cf4bd15145f9"
      },
      "execution_count": null,
      "outputs": [
        {
          "output_type": "stream",
          "name": "stdout",
          "text": [
            "<class 'str'>\n"
          ]
        }
      ]
    },
    {
      "cell_type": "code",
      "source": [],
      "metadata": {
        "colab": {
          "base_uri": "https://localhost:8080/",
          "height": 159
        },
        "id": "mT42LeP34dF7",
        "outputId": "97139534-3c39-4e78-da0d-1fd777766a7d"
      },
      "execution_count": null,
      "outputs": [
        {
          "output_type": "error",
          "ename": "TypeError",
          "evalue": "can only concatenate str (not \"int\") to str",
          "traceback": [
            "\u001b[0;31m---------------------------------------------------------------------------\u001b[0m",
            "\u001b[0;31mTypeError\u001b[0m                                 Traceback (most recent call last)",
            "\u001b[0;32m<ipython-input-17-b8618b1012a9>\u001b[0m in \u001b[0;36m<cell line: 2>\u001b[0;34m()\u001b[0m\n\u001b[1;32m      1\u001b[0m \u001b[0mnumero2\u001b[0m \u001b[0;34m=\u001b[0m \u001b[0;36m7\u001b[0m\u001b[0;34m\u001b[0m\u001b[0;34m\u001b[0m\u001b[0m\n\u001b[0;32m----> 2\u001b[0;31m \u001b[0mprint\u001b[0m\u001b[0;34m(\u001b[0m\u001b[0mnumero\u001b[0m \u001b[0;34m+\u001b[0m \u001b[0mnumero2\u001b[0m\u001b[0;34m)\u001b[0m\u001b[0;34m\u001b[0m\u001b[0;34m\u001b[0m\u001b[0m\n\u001b[0m",
            "\u001b[0;31mTypeError\u001b[0m: can only concatenate str (not \"int\") to str"
          ]
        }
      ]
    },
    {
      "cell_type": "code",
      "source": [],
      "metadata": {
        "id": "7hd2KBgh4dIz"
      },
      "execution_count": null,
      "outputs": []
    },
    {
      "cell_type": "markdown",
      "source": [
        "Crie um código que solicite o nome do usuário e o ano de nascimento.\n",
        "\n",
        "Calcular a idade e exibir a mensagem \"Bem vindo [pessoa] você tem [idade] anos de idade\""
      ],
      "metadata": {
        "id": "UpOJJ02w4LpL"
      }
    },
    {
      "cell_type": "code",
      "source": [
        "nome = input(\"Digite seu nome: \")\n",
        "ano = int(input(\"Digite o ano do seu nascimento: \"))\n",
        "idade = 2024 - ano\n",
        "print(f\"Bem vindo {nome} você tem {idade} anos de idade\")"
      ],
      "metadata": {
        "colab": {
          "base_uri": "https://localhost:8080/"
        },
        "id": "HLbQhU3IvEhE",
        "outputId": "b5206c38-84f9-4192-ed4a-d3c24bc44246"
      },
      "execution_count": null,
      "outputs": [
        {
          "output_type": "stream",
          "name": "stdout",
          "text": [
            "Digite seu nome: emmanuel\n",
            "Digite o ano do seu nascimento: 1992\n",
            "Bem vindo emmanuel você tem 32 anos de idade\n"
          ]
        }
      ]
    },
    {
      "cell_type": "code",
      "source": [
        "altura = 2\n",
        "print(float(altura))"
      ],
      "metadata": {
        "colab": {
          "base_uri": "https://localhost:8080/"
        },
        "id": "usgyrmfMvEkH",
        "outputId": "0648a813-22a3-4acb-c7d1-0183a6c560fe"
      },
      "execution_count": null,
      "outputs": [
        {
          "output_type": "stream",
          "name": "stdout",
          "text": [
            "2.0\n"
          ]
        }
      ]
    },
    {
      "cell_type": "markdown",
      "source": [
        "Crie um código que solicite o nome do usuario, peso e altura atual.\n",
        "\n",
        "Em seguida exiba seu nome, peso, altura e IMC.\n",
        "\n",
        "IMC = Peso / Altura^2"
      ],
      "metadata": {
        "id": "L7XnMtPbHoy4"
      }
    },
    {
      "cell_type": "code",
      "source": [],
      "metadata": {
        "colab": {
          "base_uri": "https://localhost:8080/"
        },
        "id": "dzmHMCpYvEng",
        "outputId": "1957367d-ddae-4060-c87f-40a54cf52e6d"
      },
      "execution_count": null,
      "outputs": [
        {
          "output_type": "execute_result",
          "data": {
            "text/plain": [
              "8"
            ]
          },
          "metadata": {},
          "execution_count": 30
        }
      ]
    },
    {
      "cell_type": "markdown",
      "source": [
        "Condicionais\n"
      ],
      "metadata": {
        "id": "AaFBC9gR4e-4"
      }
    },
    {
      "cell_type": "code",
      "source": [],
      "metadata": {
        "id": "A0BfKwjBvEqH"
      },
      "execution_count": 1,
      "outputs": []
    },
    {
      "cell_type": "code",
      "source": [
        "idade = 80\n",
        "if idade < 12:\n",
        "  print(\"Você é uma criança\")\n",
        "elif idade < 17:\n",
        "  print(\"Você é um adolescente\")\n",
        "elif idade < 59:\n",
        "  print(\"Você é um adulto\")\n",
        "else:\n",
        "  print(\"Você é idoso\")"
      ],
      "metadata": {
        "id": "PsmXlPtMvEtu",
        "colab": {
          "base_uri": "https://localhost:8080/"
        },
        "outputId": "f6656c27-141b-46a1-8a03-39357be494a5"
      },
      "execution_count": 10,
      "outputs": [
        {
          "output_type": "stream",
          "name": "stdout",
          "text": [
            "Você é idoso\n"
          ]
        }
      ]
    }
  ]
}